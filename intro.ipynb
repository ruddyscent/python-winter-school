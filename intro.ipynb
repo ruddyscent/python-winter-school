{
 "cells": [
  {
   "cell_type": "code",
   "execution_count": 2,
   "metadata": {
    "collapsed": false,
    "scrolled": true
   },
   "outputs": [
    {
     "name": "stdout",
     "output_type": "stream",
     "text": [
      "3.5.1 |Anaconda 2.4.1 (64-bit)| (default, Dec  7 2015, 11:16:01) \n",
      "[GCC 4.4.7 20120313 (Red Hat 4.4.7-1)]\n",
      "Tue Feb  2 22:10:33 2016\n"
     ]
    }
   ],
   "source": [
    "import sys; print(sys.version)\n",
    "import time; print(time.strftime(\"%c\"))"
   ]
  },
  {
   "cell_type": "markdown",
   "metadata": {},
   "source": [
    "## What are Python, IPython, and Jupyter?\n",
    "> **This is an excerpt from [C. Rossant, Learning IPython for Interactive Computing and Data Visualization, 2nd ed. Packt Publishing, 2015](http://ipython-books.github.io/minibook/).**\n",
    "\n",
    "\n",
    "* [Python](http://goo.gl/2Zdu3F)\n",
    " * An open source general-purpose language\n",
    " * Original author:\t[Guido van Rossum](https://en.wikipedia.org/wiki/Guido_van_Rossum)\n",
    " * Publish date: 1991\n",
    " * Named after [Monty Python's Flying Circus](https://en.wikipedia.org/wiki/Monty_Python%27s_Flying_Circus)\n",
    " * The field in the early days: web programming, system administration\n",
    " * Pros: easy\n",
    " * Cons: slow\n",
    " * late 1990's: interoperating with scientific libraries written in C/Fortran.\n",
    " \n",
    "> Competing platforms: MATLAB by Mathworks, Mathematica by Wolfram Research, SPSS by IBM, R, and Julia\n",
    "\n",
    "### Jupyter and IPython\n",
    "* [IPython](https://en.wikipedia.org/wiki/IPython)\n",
    " * Initial release:\t2001\n",
    " * Original author:\t[Fernando Perez](http://fperez.org/)\n",
    " * Inspired by Mathematica notebook frontend.\n",
    " * Code, text, mathematical equations, plots, graphics and controls into a single document.\n",
    " * Extended to support R, Julai, Lua, Ruby, and etc.\n",
    " * Renamed to Jupyter at 2014.\n",
    " * In Aug. 2015, from monolithic to modular code\n",
    " \n",
    "### What this book covers\n",
    "* Jupyter Notebook 1.0\n",
    "* IPython 4.0\n",
    "\n",
    "### References\n",
    "* [Jupyter homepage](http://jupyter.org)\n",
    "* [Jupyter documentation](https://jupyter.readthedocs.org/en/latest)\n",
    "* [IPython homepage](http://ipython.org)\n",
    "* [Jupyter on GitHub](https://github.com/jupyter)\n",
    "* [Jupyter online](https://try.jupyter.org)\n",
    "* [H. Shen, “Interactive notebooks: Sharing the code,” Nature, vol. 515, no. 7525, pp. 151–152, Nov. 2014.\n",
    "](http://www.nature.com/news/interactive-notebooks-sharing-the-code-1.16261)"
   ]
  }
 ],
 "metadata": {
  "kernelspec": {
   "display_name": "Python 3",
   "language": "python",
   "name": "python3"
  },
  "language_info": {
   "codemirror_mode": {
    "name": "ipython",
    "version": 3
   },
   "file_extension": ".py",
   "mimetype": "text/x-python",
   "name": "python",
   "nbconvert_exporter": "python",
   "pygments_lexer": "ipython3",
   "version": "3.5.1"
  }
 },
 "nbformat": 4,
 "nbformat_minor": 0
}
