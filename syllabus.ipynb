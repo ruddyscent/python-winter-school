{
 "cells": [
  {
   "cell_type": "markdown",
   "metadata": {},
   "source": [
    "# Syllabus\n",
    "* Course: GIST SIC Winter School, 2016.\n",
    "* Instructor: Kyungwon Chun\n",
    "* This document is a draft. Please, check the new version frequently."
   ]
  },
  {
   "cell_type": "markdown",
   "metadata": {},
   "source": [
    "## Course Description\n",
    "\n",
    "You will bulid up a Python environment which can be used for your subsequent researches and course works. I'll try to give you experiences on data manipulation and analysis, visualization, numerical analysis, optimization through 30 hours course. These contents will serve as a alternative (hopefully better) tools of Microsoft® Excel, Mathworks® Matlab, OriginLab® OriginPro, and some part of Wolfram Research Mathematica. All topics will be demonstrated through live-code examples, available at https://github.com/python-winter-school.\n",
    "\n",
    "This course will handle the following Python packages.\n",
    "* [NumPy](http://www.numpy.org/)\n",
    "* [SciPy](http://www.scipy.org/)\n",
    "* [Matplotlib](http://matplotlib.org/)\n",
    "* [Pandas](http://pandas.pydata.org/)\n",
    "* [ipywidgets](https://github.com/ipython/ipywidgets/blob/master/examples/notebooks/Index.ipynb)\n",
    "\n",
    "This course will handle the following utility programs.\n",
    "* [Continum Anaconda](https://www.continuum.io/why-anaconda)\n",
    "* [Jupyter](http://jupyter.org/)\n",
    "* [GitHub](https://github.com/)"
   ]
  },
  {
   "cell_type": "markdown",
   "metadata": {},
   "source": [
    "## Prerequisites\n",
    "* You will need an WiFi-enabled notebook with your favorite OS among Windows, Mac, or Linux.\n",
    "* Knowledge on programming will be definitely helpful but not required. Those skills will be covered when they are needed."
   ]
  },
  {
   "cell_type": "markdown",
   "metadata": {},
   "source": [
    "## References\n",
    "This lecture is based on the following references. Some are And some are paid materials and some are free.\n",
    "* [C. Rossant, Learning IPython for Interactive Computing and Data Visualization, 2nd ed. Packt Publishing, 2015.](https://www.packtpub.com/big-data-and-business-intelligence/learning-ipython-interactive-computing-and-data-visualization-sec)\n",
    "* [Jose Portilla, Complete Python Bootcamp](https://github.com/jmportilla/Complete-Python-Bootcamp)\n",
    "* [Scipy Lecture Notes](http://www.scipy-lectures.org/)\n",
    "* [Paul Barry, Head First Python, 1st ed. O’Reilly Media, 2010.](http://www.headfirstlabs.com/books/hfpython/)\n",
    "* [R. Fitzpatrick, \"Introduction to Computational Physics.\" 16-Jul-2009.](http://farside.ph.utexas.edu/teaching/329/329.html)\n",
    "* [Examples of IPython Interactive Widgets](https://github.com/ipython/ipywidgets/blob/master/examples/notebooks/Index.ipynb)"
   ]
  },
  {
   "cell_type": "markdown",
   "metadata": {},
   "source": [
    "## Course Outline\n",
    "The contents may be added or deleted in advance.\n",
    "\n",
    "1. Wed, Feb 3, 2016\n",
    " 1. [Introduction to Python](intro_python.ipynb)\n",
    " 1. [Glimpse on Python](glimpse.ipynb)\n",
    " 1. [Useful Jupyter Tips](https://github.com/ipython-books/minibook-2nd-code/blob/master/chapter1/14-python.ipynb)\n",
    "1. Thu, Feb 4, 2016\n",
    " 1. [-](https://github.com/ipython-books/minibook-2nd-code/blob/master/chapter2/21-exploring.ipynb)\n",
    " 1. [-](https://github.com/ipython-books/minibook-2nd-code/blob/master/chapter2/22-manipulating.ipynb)\n",
    " 1. [-](https://github.com/ipython-books/minibook-2nd-code/blob/master/chapter2/23-groupby.ipynb)\n",
    "1. Fri, Feb 2, 2016\n",
    " 1. [-](https://github.com/ipython-books/minibook-2nd-code/blob/master/chapter3/31-primer.ipynb)\n",
    " 1. [-](https://github.com/ipython-books/minibook-2nd-code/blob/master/chapter3/32-creating.ipynb)\n",
    " 1. [-](https://github.com/ipython-books/minibook-2nd-code/blob/master/chapter3/33-basic.ipynb)\n",
    " 1. [-](https://github.com/ipython-books/minibook-2nd-code/blob/master/chapter3/34-computing.ipynb)\n",
    "1. Thu, Feb 11, 2016\n",
    " 1. [-](https://github.com/ipython-books/minibook-2nd-code/blob/master/chapter4/41-notebook.ipynb)\n",
    " 1. [-](https://github.com/ipython-books/minibook-2nd-code/blob/master/chapter4/42-mpl.ipynb)\n",
    " 1. [-](https://github.com/ipython-books/minibook-2nd-code/blob/master/chapter4/43-image.ipynb)\n",
    "1. Fri, Feb 12, 2016\n",
    " 1. [Nonlinear Pendulum](fitzpatrick_ch04.ipynb)\n",
    " 1. [-](https://github.com/ipython-books/minibook-2nd-code/blob/master/chapter5/51-numba.ipynb)\n",
    " 1. [-](https://github.com/ipython-books/minibook-2nd-code/blob/master/chapter5/52-cython.ipynb)\n",
    " 1. [-](https://github.com/ipython-books/minibook-2nd-code/blob/master/chapter5/53-parallel.ipynb)"
   ]
  },
  {
   "cell_type": "markdown",
   "metadata": {
    "collapsed": true
   },
   "source": [
    "## License\n",
    "\n",
    "[![http://creativecommons.org/licenses/by/4.0/](https://i.creativecommons.org/l/by/4.0/88x31.png)](http://creativecommons.org/licenses/by/4.0/)\n",
    "\n",
    "This work and all other materials under https://github.com/python-winter-school are licensed under a [Creative Commons Attribution 4.0 International License.](http://creativecommons.org/licenses/by/4.0/)"
   ]
  },
  {
   "cell_type": "code",
   "execution_count": null,
   "metadata": {
    "collapsed": true
   },
   "outputs": [],
   "source": []
  }
 ],
 "metadata": {
  "kernelspec": {
   "display_name": "Python 3",
   "language": "python",
   "name": "python3"
  },
  "language_info": {
   "codemirror_mode": {
    "name": "ipython",
    "version": 3
   },
   "file_extension": ".py",
   "mimetype": "text/x-python",
   "name": "python",
   "nbconvert_exporter": "python",
   "pygments_lexer": "ipython3",
   "version": "3.5.1"
  }
 },
 "nbformat": 4,
 "nbformat_minor": 0
}
