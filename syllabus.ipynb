{
 "cells": [
  {
   "cell_type": "markdown",
   "metadata": {},
   "source": [
    "# Syllabus\n",
    "* Course: GIST SIC Winter School, 2016.\n",
    "* Instructor: Kyungwon Chun\n",
    "* This document is a draft. Please, check the new version frequently."
   ]
  },
  {
   "cell_type": "markdown",
   "metadata": {},
   "source": [
    "## Course Description\n",
    "\n",
    "You will bulid up a Python environment which can be used for your subsequent researches and course works. I'll try to give you experiences on data manipulation and analysis, visualization, numerical analysis, optimization through 30 hours course. These contents will serve as a alternative (hopefully better) tools of Microsoft® Excel, Mathworks® Matlab, OriginLab® OriginPro, and some parts of Wolfram Research Mathematica®. All topics will be demonstrated through live-code examples, available at https://github.com/python-winter-school.\n",
    "\n",
    "This course will cover the following Python packages.\n",
    "* [NumPy](http://www.numpy.org/)\n",
    "* [SciPy](http://www.scipy.org/)\n",
    "* [Matplotlib](http://matplotlib.org/)\n",
    "* [Pandas](http://pandas.pydata.org/)\n",
    "\n",
    "This course will handle the following utility programs.\n",
    "* [Anaconda](https://www.continuum.io/why-anaconda)\n",
    "* [Jupyter](http://jupyter.org/)\n",
    "* [GitHub](https://github.com/)"
   ]
  },
  {
   "cell_type": "markdown",
   "metadata": {},
   "source": [
    "## Prerequisites\n",
    "* You will need an WiFi-enabled notebook with your favorite OS among Windows, Mac, or Linux.\n",
    "* Knowledge on programming will be definitely helpful but not required. Those skills will be covered when they are needed."
   ]
  },
  {
   "cell_type": "markdown",
   "metadata": {},
   "source": [
    "## References\n",
    "This lecture is based on the following references. Some materials are paid oness and some are free.\n",
    "* [C. Rossant, Learning IPython for Interactive Computing and Data Visualization, 2nd ed. Packt Publishing, 2015.](https://www.packtpub.com/big-data-and-business-intelligence/learning-ipython-interactive-computing-and-data-visualization-sec)\n",
    "* [R. Fitzpatrick, \"Introduction to Computational Physics.\" 16-Jul-2009.](http://farside.ph.utexas.edu/teaching/329/329.html)"
   ]
  },
  {
   "cell_type": "markdown",
   "metadata": {},
   "source": [
    "## Course Outline\n",
    "The contents may be added or deleted in advance.\n",
    "\n",
    "1. Getting started with IPython: Wed, Feb 3, 2016\n",
    " 1. [What are Python, IPython, and Jupyter?](intro.ipynb)\n",
    " 1. [Installing Python with Anaconda](https://github.com/ipython-books/minibook-2nd-code/blob/master/chapter1/12-installation.ipynb)\n",
    " 1. [Introducing the Notebook](https://github.com/ipython-books/minibook-2nd-code/blob/master/chapter1/13-nbui.ipynb)\n",
    " 1. [A crash course on Python](https://github.com/ipython-books/minibook-2nd-code/blob/master/chapter1/14-python.ipynb)\n",
    " 1. [Ten Jupyter/IPython essentials](https://github.com/ipython-books/minibook-2nd-code/blob/master/chapter1/15-ten.ipynb)\n",
    " 1. [Project Euler](https://github.com/ruddyscent/project-euler)\n",
    "1. Interactive data analysis with Pandas: Thu, Feb 4, 2016\n",
    " 1. [Exploring a dataset in the Notebook](https://github.com/ipython-books/minibook-2nd-code/blob/master/chapter2/21-exploring.ipynb)\n",
    " 1. [Manipulating data](https://github.com/ipython-books/minibook-2nd-code/blob/master/chapter2/22-manipulating.ipynb)\n",
    " 1. [Complex operations](https://github.com/ipython-books/minibook-2nd-code/blob/master/chapter2/23-groupby.ipynb)\n",
    "1. Numerical computing with NumPy: Fri, Feb 4, 2016\n",
    " 1. [A primer to vector computing](https://github.com/ipython-books/minibook-2nd-code/blob/master/chapter3/31-primer.ipynb)\n",
    " 1. [Creating and loading arrays](https://github.com/ipython-books/minibook-2nd-code/blob/master/chapter3/32-creating.ipynb)\n",
    " 1. [Basic array manipulations](https://github.com/ipython-books/minibook-2nd-code/blob/master/chapter3/33-basic.ipynb)\n",
    " 1. [Computing with NumPy arrays](https://github.com/ipython-books/minibook-2nd-code/blob/master/chapter3/34-computing.ipynb)\n",
    "1. Interactive plotting and graphical interfaces: Thu, Feb 5, 2016\n",
    " 1. [Choosing a plotting backend](https://github.com/ipython-books/minibook-2nd-code/blob/master/chapter4/41-notebook.ipynb)\n",
    " 1. [matplotlib and seaborn essentials](https://github.com/ipython-books/minibook-2nd-code/blob/master/chapter4/42-mpl.ipynb)\n",
    " 1. [Image processing](https://github.com/ipython-books/minibook-2nd-code/blob/master/chapter4/43-image.ipynb)\n",
    " 1. Further plotting and visualization libraries\n",
    "1. High-performance and parallel computing: Fri, Feb 5, 2016\n",
    " 1. [Accelerating Python code with Numba](https://github.com/ipython-books/minibook-2nd-code/blob/master/chapter5/51-numba.ipynb)\n",
    " 1. [Writing C in Python with Cython](https://github.com/ipython-books/minibook-2nd-code/blob/master/chapter5/52-cython.ipynb)\n",
    " 1. [Distributing tasks on several cores with IPython.parallel](https://github.com/ipython-books/minibook-2nd-code/blob/master/chapter5/53-parallel.ipynb)\n",
    " 1. Further high-performance computing techniques\n",
    "1. Numerical analysis: Fri, Feb 12, 2016\n",
    " 1. [Nonlinear Pendulum](fitzpatrick_ch04.ipynb)"
   ]
  },
  {
   "cell_type": "markdown",
   "metadata": {
    "collapsed": true
   },
   "source": [
    "## License\n",
    "\n",
    "[![http://creativecommons.org/licenses/by/4.0/](https://i.creativecommons.org/l/by/4.0/88x31.png)](http://creativecommons.org/licenses/by/4.0/)\n",
    "\n",
    "This work and all other materials under https://github.com/python-winter-school are licensed under a [Creative Commons Attribution 4.0 International License.](http://creativecommons.org/licenses/by/4.0/)"
   ]
  }
 ],
 "metadata": {
  "kernelspec": {
   "display_name": "Python 3",
   "language": "python",
   "name": "python3"
  },
  "language_info": {
   "codemirror_mode": {
    "name": "ipython",
    "version": 3
   },
   "file_extension": ".py",
   "mimetype": "text/x-python",
   "name": "python",
   "nbconvert_exporter": "python",
   "pygments_lexer": "ipython3",
   "version": "3.5.1"
  }
 },
 "nbformat": 4,
 "nbformat_minor": 0
}
