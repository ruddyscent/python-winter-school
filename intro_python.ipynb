{
 "cells": [
  {
   "cell_type": "code",
   "execution_count": 3,
   "metadata": {
    "collapsed": false
   },
   "outputs": [
    {
     "name": "stdout",
     "output_type": "stream",
     "text": [
      "3.5.1 |Anaconda 2.4.1 (64-bit)| (default, Dec  7 2015, 11:16:01) \n",
      "[GCC 4.4.7 20120313 (Red Hat 4.4.7-1)]\n",
      "Mon Jan 25 15:27:48 2016\n"
     ]
    }
   ],
   "source": [
    "import sys; print(sys.version)\n",
    "import time; print(time.strftime(\"%c\"))"
   ]
  },
  {
   "cell_type": "markdown",
   "metadata": {},
   "source": [
    "# 파이썬을 소개합니다."
   ]
  },
  {
   "cell_type": "markdown",
   "metadata": {},
   "source": [
    "## 파이썬이 뭐죠?\n",
    "[위키피디아의 파이썬 페이지](https://goo.gl/2Zdu3F)"
   ]
  },
  {
   "cell_type": "markdown",
   "metadata": {},
   "source": [
    "## 파이썬을 배우는 게 도움이 될까요?\n",
    "* [TIOBE Index for January 2016](http://www.tiobe.com/index.php/content/paperinfo/tpci/index.html)\n",
    "* [RedMonk Programming Language Ranking](http://redmonk.com/sogrady/2015/07/01/language-rankings-6-15/)\n",
    "* [IEEE Spectrum Ranking](http://spectrum.ieee.org/computing/software/the-2015-top-ten-programming-languages)\n",
    "* [PYPL PopularitY of Programming Language for Jan 2016](http://pypl.github.io/PYPL.html)"
   ]
  },
  {
   "cell_type": "markdown",
   "metadata": {},
   "source": [
    "## 비단뱀에 무섭지 않다면 보아뱀은 어때요?\n",
    "[아나콘다 홈페이지](https://www.continuum.io/why-anaconda)"
   ]
  },
  {
   "cell_type": "markdown",
   "metadata": {
    "collapsed": true
   },
   "source": [
    "## 세상엔 두 종류의 파이썬이 있습니다.\n",
    "[2014년도 파이썬 버전 설문조사](http://www.randalolson.com/2015/01/30/python-usage-survey-2014/)"
   ]
  },
  {
   "cell_type": "markdown",
   "metadata": {},
   "source": [
    "## 아나콘다 설치"
   ]
  },
  {
   "cell_type": "markdown",
   "metadata": {},
   "source": [
    "### 파이썬 해석기"
   ]
  },
  {
   "cell_type": "markdown",
   "metadata": {},
   "source": [
    "```bash\n",
    "python\n",
    "```"
   ]
  },
  {
   "cell_type": "markdown",
   "metadata": {},
   "source": [
    "```python\n",
    "print('hellow world')\n",
    "```"
   ]
  },
  {
   "cell_type": "markdown",
   "metadata": {},
   "source": [
    "## 주피터 실행\n",
    "- **jupyter notebook**\n",
    "- 주피터를 실행한 터미널은 열어둘 것"
   ]
  },
  {
   "cell_type": "markdown",
   "metadata": {},
   "source": [
    "## 단축키\n",
    "\n",
    "### 명령 모드 (회색 테두리)\n",
    "- 셀 생성: a(above), b(below)\n",
    "- 셀 이동: 위, 아래 화살표\n",
    "- 셀 전환: m(Markdown), y(code)\n",
    "- 도움말: h\n",
    "- 편집 모드 전환: Enter\n",
    "\n",
    "### 편집 모드 (녹색 테두리)\n",
    "- 셀 실행: Ctrl+Enter\n",
    "- 자동완성: Tab\n",
    "- 함수설명: Shift+Tab\n",
    "- 명령 모드 전환: Esc"
   ]
  },
  {
   "cell_type": "markdown",
   "metadata": {},
   "source": [
    "## 참고자료\n",
    "- [Complete Python Bootcamp - Udemy](https://www.udemy.com/complete-python-bootcamp/)\n",
    "- [Jupyter Notebook Users Manual by Bryn Mawr](http://jupyter.cs.brynmawr.edu/hub/dblank/public/Jupyter%20Notebook%20Users%20Manual.ipynb)"
   ]
  },
  {
   "cell_type": "code",
   "execution_count": null,
   "metadata": {
    "collapsed": true
   },
   "outputs": [],
   "source": []
  }
 ],
 "metadata": {
  "kernelspec": {
   "display_name": "Python 3",
   "language": "python",
   "name": "python3"
  },
  "language_info": {
   "codemirror_mode": {
    "name": "ipython",
    "version": 3
   },
   "file_extension": ".py",
   "mimetype": "text/x-python",
   "name": "python",
   "nbconvert_exporter": "python",
   "pygments_lexer": "ipython3",
   "version": "3.5.1"
  }
 },
 "nbformat": 4,
 "nbformat_minor": 0
}
